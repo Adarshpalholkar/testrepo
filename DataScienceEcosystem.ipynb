{
 "cells": [
  {
   "cell_type": "markdown",
   "id": "df91479f",
   "metadata": {},
   "source": [
    "#Data Science Tools and Ecosystem"
   ]
  },
  {
   "cell_type": "markdown",
   "id": "58aa2010",
   "metadata": {},
   "source": [
    "In this notebook, Data Science Tools and Ecosystem are summarized."
   ]
  },
  {
   "cell_type": "markdown",
   "id": "ac03514b",
   "metadata": {},
   "source": [
    "Objectives:\n",
    "+ pyhon\n",
    "+ r\n",
    "+ scala\n",
    "+ github\n",
    "+ jupyter noteboks"
   ]
  },
  {
   "cell_type": "markdown",
   "id": "38e61f84",
   "metadata": {},
   "source": [
    "Some of the popular languages that Data Scientists use are:\n",
    "1. python\n",
    "2. r\n",
    "3. julia"
   ]
  },
  {
   "cell_type": "markdown",
   "id": "ca709859",
   "metadata": {},
   "source": [
    "Some of the commonly used libraries used by Data Scientists include:\n",
    "\n",
    "1. numpy\n",
    "2. pandas\n",
    "3. matplotlib\n",
    "4. plotly\n",
    "5. ggplot"
   ]
  },
  {
   "cell_type": "markdown",
   "id": "58baaece",
   "metadata": {},
   "source": [
    "|Data Science Tools|\n",
    "|------------------|\n",
    "|jupyter notebook|\n",
    "|r studio|\n",
    "|jupyter lab|\n"
   ]
  },
  {
   "cell_type": "markdown",
   "id": "697160bd",
   "metadata": {},
   "source": [
    "###Below are a few examples of evaluating arithmetic expressions in Python"
   ]
  },
  {
   "cell_type": "code",
   "execution_count": 1,
   "id": "f39d4082",
   "metadata": {},
   "outputs": [
    {
     "data": {
      "text/plain": [
       "3.3333333333333335"
      ]
     },
     "execution_count": 1,
     "metadata": {},
     "output_type": "execute_result"
    }
   ],
   "source": [
    "#This will convert 200 minutes to hours by diving by 60.\n",
    "200/60"
   ]
  },
  {
   "cell_type": "markdown",
   "id": "d3dd280f",
   "metadata": {},
   "source": [
    "## Author\n",
    "    Adarsh"
   ]
  }
 ],
 "metadata": {
  "kernelspec": {
   "display_name": "Python 3 (ipykernel)",
   "language": "python",
   "name": "python3"
  },
  "language_info": {
   "codemirror_mode": {
    "name": "ipython",
    "version": 3
   },
   "file_extension": ".py",
   "mimetype": "text/x-python",
   "name": "python",
   "nbconvert_exporter": "python",
   "pygments_lexer": "ipython3",
   "version": "3.10.9"
  }
 },
 "nbformat": 4,
 "nbformat_minor": 5
}
